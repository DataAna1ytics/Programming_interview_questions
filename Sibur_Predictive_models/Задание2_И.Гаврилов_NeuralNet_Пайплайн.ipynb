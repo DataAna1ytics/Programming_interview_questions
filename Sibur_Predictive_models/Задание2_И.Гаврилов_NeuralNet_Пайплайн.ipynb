{
 "cells": [
  {
   "cell_type": "markdown",
   "metadata": {},
   "source": [
    "# Задание 2\n",
    "Имеются 2 технологические ёмкости, в которых происходит процесс перемешивания жидкостей. В каждой из них установлены следующие датчики:\n",
    "\n",
    "- 1 датчик давления;\n",
    "\n",
    "- 1 датчик расхода;\n",
    "\n",
    "- 2 датчика уровня.\n",
    "\n",
    "Задача: построить алгоритм предсказания нагрузки на смешивающий аппарат каждой ёмкости, используя показания датчиков, то есть нужно рассчитать нагрузку, используя остальные параметры. В итоге необходимо сравнить показания модели с реальной нагрузкой и посчитать ошибку. Даные во вложении (Таблица 'Данные для тестового задания 2.xlsx')"
   ]
  },
  {
   "cell_type": "markdown",
   "metadata": {},
   "source": [
    "### Гипотеза:\n",
    "\n",
    "1) Использование многослойной нейронной сети позволит минимизировать ошибку рассчетов;\n",
    "\n",
    "2) Возможно использование акцивационных функций 'relu' и 'sigmoid' с учетом масштабирования признаков (включая обратное преобразование целевой переменной), т.н. обобщенная линейная модель."
   ]
  },
  {
   "cell_type": "markdown",
   "metadata": {},
   "source": [
    "#### Имплементация решения:\n",
    "Язык программирования:\n",
    "    \n",
    "    - Python 3.6.3\n",
    "\n",
    "Командная оболочка:\n",
    "    \n",
    "    - Jupyter Notebook | Anaconda custom (64-bit)"
   ]
  },
  {
   "cell_type": "code",
   "execution_count": 1,
   "metadata": {
    "collapsed": true
   },
   "outputs": [],
   "source": [
    "%matplotlib inline"
   ]
  },
  {
   "cell_type": "code",
   "execution_count": 2,
   "metadata": {
    "collapsed": true
   },
   "outputs": [],
   "source": [
    "import numpy as np\n",
    "np.set_printoptions(precision=6, linewidth=100)\n",
    "from matplotlib import pyplot as plt\n",
    "import pandas as pd"
   ]
  },
  {
   "cell_type": "markdown",
   "metadata": {},
   "source": [
    "### Загрузка данных и препроцессинг"
   ]
  },
  {
   "cell_type": "markdown",
   "metadata": {},
   "source": [
    "##### назначение выборки ('Аппарат перемешивания 1') в качестве тренировочного и тестового датасетов"
   ]
  },
  {
   "cell_type": "code",
   "execution_count": 3,
   "metadata": {
    "collapsed": true
   },
   "outputs": [],
   "source": [
    "df = pd.read_excel('Данные для тестового задания 2.xlsx', encoding = 'windows-1251').iloc[:,:5]\n",
    "df.rename(columns={'Аппарат перемешивания 1': 'Нагрузка', \n",
    "                   'Unnamed: 1': 'Датчик_расхода',\n",
    "                  'Unnamed: 2': 'Датчик_уровня_1', \n",
    "                  'Unnamed: 3': 'Датчик_уровня_2',\n",
    "                  'Unnamed: 4': 'Датчик_давления'}, inplace=True)"
   ]
  },
  {
   "cell_type": "code",
   "execution_count": 4,
   "metadata": {
    "collapsed": true
   },
   "outputs": [],
   "source": [
    "df_original_labels = list(df.columns)\n",
    "df.rename(columns={'Нагрузка': 'Capacity', \n",
    "                   'Датчик_расхода': 'Flow_Sensor',\n",
    "                  'Датчик_уровня_1': 'Level_Sensor_1', \n",
    "                  'Датчик_уровня_2': 'Level_Sensor_2',\n",
    "                  'Датчик_давления': 'Pressure_Meter'}, inplace=True)\n",
    "df = df.drop([0]).reset_index(drop=True)"
   ]
  },
  {
   "cell_type": "code",
   "execution_count": 5,
   "metadata": {
    "collapsed": true
   },
   "outputs": [],
   "source": [
    "df[df.columns.tolist()] = df[df.columns.tolist()].astype(np.float64)"
   ]
  },
  {
   "cell_type": "markdown",
   "metadata": {},
   "source": [
    "##### проверка основных статистик датасета"
   ]
  },
  {
   "cell_type": "code",
   "execution_count": 6,
   "metadata": {
    "collapsed": true
   },
   "outputs": [],
   "source": [
    "from pandas_summary import DataFrameSummary"
   ]
  },
  {
   "cell_type": "code",
   "execution_count": 7,
   "metadata": {},
   "outputs": [
    {
     "data": {
      "text/html": [
       "<div>\n",
       "<style>\n",
       "    .dataframe thead tr:only-child th {\n",
       "        text-align: right;\n",
       "    }\n",
       "\n",
       "    .dataframe thead th {\n",
       "        text-align: left;\n",
       "    }\n",
       "\n",
       "    .dataframe tbody tr th {\n",
       "        vertical-align: top;\n",
       "    }\n",
       "</style>\n",
       "<table border=\"1\" class=\"dataframe\">\n",
       "  <thead>\n",
       "    <tr style=\"text-align: right;\">\n",
       "      <th></th>\n",
       "      <th>Capacity</th>\n",
       "      <th>Flow_Sensor</th>\n",
       "      <th>Level_Sensor_1</th>\n",
       "      <th>Level_Sensor_2</th>\n",
       "      <th>Pressure_Meter</th>\n",
       "    </tr>\n",
       "  </thead>\n",
       "  <tbody>\n",
       "    <tr>\n",
       "      <th>count</th>\n",
       "      <td>8411</td>\n",
       "      <td>8411</td>\n",
       "      <td>8411</td>\n",
       "      <td>8411</td>\n",
       "      <td>8411</td>\n",
       "    </tr>\n",
       "    <tr>\n",
       "      <th>mean</th>\n",
       "      <td>8.49296</td>\n",
       "      <td>10.1475</td>\n",
       "      <td>1067.54</td>\n",
       "      <td>1141.96</td>\n",
       "      <td>0.4917</td>\n",
       "    </tr>\n",
       "    <tr>\n",
       "      <th>std</th>\n",
       "      <td>0.153881</td>\n",
       "      <td>0.294863</td>\n",
       "      <td>50.6385</td>\n",
       "      <td>56.5413</td>\n",
       "      <td>0.0482176</td>\n",
       "    </tr>\n",
       "    <tr>\n",
       "      <th>min</th>\n",
       "      <td>7.98333</td>\n",
       "      <td>0</td>\n",
       "      <td>978.573</td>\n",
       "      <td>940.15</td>\n",
       "      <td>0.218033</td>\n",
       "    </tr>\n",
       "    <tr>\n",
       "      <th>25%</th>\n",
       "      <td>8.39667</td>\n",
       "      <td>9.93667</td>\n",
       "      <td>1046.85</td>\n",
       "      <td>1128.3</td>\n",
       "      <td>0.469683</td>\n",
       "    </tr>\n",
       "    <tr>\n",
       "      <th>50%</th>\n",
       "      <td>8.48</td>\n",
       "      <td>10.184</td>\n",
       "      <td>1054.27</td>\n",
       "      <td>1146.29</td>\n",
       "      <td>0.4976</td>\n",
       "    </tr>\n",
       "    <tr>\n",
       "      <th>75%</th>\n",
       "      <td>8.58</td>\n",
       "      <td>10.329</td>\n",
       "      <td>1078.84</td>\n",
       "      <td>1160.42</td>\n",
       "      <td>0.51835</td>\n",
       "    </tr>\n",
       "    <tr>\n",
       "      <th>max</th>\n",
       "      <td>11.3667</td>\n",
       "      <td>12.014</td>\n",
       "      <td>2508.46</td>\n",
       "      <td>2465.92</td>\n",
       "      <td>0.667067</td>\n",
       "    </tr>\n",
       "    <tr>\n",
       "      <th>counts</th>\n",
       "      <td>8411</td>\n",
       "      <td>8411</td>\n",
       "      <td>8411</td>\n",
       "      <td>8411</td>\n",
       "      <td>8411</td>\n",
       "    </tr>\n",
       "    <tr>\n",
       "      <th>uniques</th>\n",
       "      <td>897</td>\n",
       "      <td>5667</td>\n",
       "      <td>7581</td>\n",
       "      <td>7955</td>\n",
       "      <td>6425</td>\n",
       "    </tr>\n",
       "    <tr>\n",
       "      <th>missing</th>\n",
       "      <td>0</td>\n",
       "      <td>0</td>\n",
       "      <td>0</td>\n",
       "      <td>0</td>\n",
       "      <td>0</td>\n",
       "    </tr>\n",
       "    <tr>\n",
       "      <th>missing_perc</th>\n",
       "      <td>0%</td>\n",
       "      <td>0%</td>\n",
       "      <td>0%</td>\n",
       "      <td>0%</td>\n",
       "      <td>0%</td>\n",
       "    </tr>\n",
       "    <tr>\n",
       "      <th>types</th>\n",
       "      <td>numeric</td>\n",
       "      <td>numeric</td>\n",
       "      <td>numeric</td>\n",
       "      <td>numeric</td>\n",
       "      <td>numeric</td>\n",
       "    </tr>\n",
       "  </tbody>\n",
       "</table>\n",
       "</div>"
      ],
      "text/plain": [
       "              Capacity Flow_Sensor Level_Sensor_1 Level_Sensor_2  \\\n",
       "count             8411        8411           8411           8411   \n",
       "mean           8.49296     10.1475        1067.54        1141.96   \n",
       "std           0.153881    0.294863        50.6385        56.5413   \n",
       "min            7.98333           0        978.573         940.15   \n",
       "25%            8.39667     9.93667        1046.85         1128.3   \n",
       "50%               8.48      10.184        1054.27        1146.29   \n",
       "75%               8.58      10.329        1078.84        1160.42   \n",
       "max            11.3667      12.014        2508.46        2465.92   \n",
       "counts            8411        8411           8411           8411   \n",
       "uniques            897        5667           7581           7955   \n",
       "missing              0           0              0              0   \n",
       "missing_perc        0%          0%             0%             0%   \n",
       "types          numeric     numeric        numeric        numeric   \n",
       "\n",
       "             Pressure_Meter  \n",
       "count                  8411  \n",
       "mean                 0.4917  \n",
       "std               0.0482176  \n",
       "min                0.218033  \n",
       "25%                0.469683  \n",
       "50%                  0.4976  \n",
       "75%                 0.51835  \n",
       "max                0.667067  \n",
       "counts                 8411  \n",
       "uniques                6425  \n",
       "missing                   0  \n",
       "missing_perc             0%  \n",
       "types               numeric  "
      ]
     },
     "metadata": {},
     "output_type": "display_data"
    }
   ],
   "source": [
    "display(DataFrameSummary(df).summary())"
   ]
  },
  {
   "cell_type": "code",
   "execution_count": 8,
   "metadata": {},
   "outputs": [
    {
     "data": {
      "text/html": [
       "<div>\n",
       "<style>\n",
       "    .dataframe thead tr:only-child th {\n",
       "        text-align: right;\n",
       "    }\n",
       "\n",
       "    .dataframe thead th {\n",
       "        text-align: left;\n",
       "    }\n",
       "\n",
       "    .dataframe tbody tr th {\n",
       "        vertical-align: top;\n",
       "    }\n",
       "</style>\n",
       "<table border=\"1\" class=\"dataframe\">\n",
       "  <thead>\n",
       "    <tr style=\"text-align: right;\">\n",
       "      <th></th>\n",
       "      <th>Capacity</th>\n",
       "      <th>Flow_Sensor</th>\n",
       "      <th>Level_Sensor_1</th>\n",
       "      <th>Level_Sensor_2</th>\n",
       "      <th>Pressure_Meter</th>\n",
       "    </tr>\n",
       "  </thead>\n",
       "  <tbody>\n",
       "    <tr>\n",
       "      <th>0</th>\n",
       "      <td>8.386667</td>\n",
       "      <td>10.021667</td>\n",
       "      <td>1047.853333</td>\n",
       "      <td>1150.563333</td>\n",
       "      <td>0.530767</td>\n",
       "    </tr>\n",
       "    <tr>\n",
       "      <th>1</th>\n",
       "      <td>8.426667</td>\n",
       "      <td>9.846000</td>\n",
       "      <td>1052.306667</td>\n",
       "      <td>1154.426667</td>\n",
       "      <td>0.533467</td>\n",
       "    </tr>\n",
       "    <tr>\n",
       "      <th>2</th>\n",
       "      <td>8.450000</td>\n",
       "      <td>9.846667</td>\n",
       "      <td>1047.516667</td>\n",
       "      <td>1155.223333</td>\n",
       "      <td>0.538733</td>\n",
       "    </tr>\n",
       "    <tr>\n",
       "      <th>3</th>\n",
       "      <td>8.470000</td>\n",
       "      <td>9.947333</td>\n",
       "      <td>1045.016667</td>\n",
       "      <td>1153.976667</td>\n",
       "      <td>0.549767</td>\n",
       "    </tr>\n",
       "    <tr>\n",
       "      <th>4</th>\n",
       "      <td>8.500000</td>\n",
       "      <td>9.860667</td>\n",
       "      <td>1060.140000</td>\n",
       "      <td>1165.850000</td>\n",
       "      <td>0.548033</td>\n",
       "    </tr>\n",
       "  </tbody>\n",
       "</table>\n",
       "</div>"
      ],
      "text/plain": [
       "   Capacity  Flow_Sensor  Level_Sensor_1  Level_Sensor_2  Pressure_Meter\n",
       "0  8.386667    10.021667     1047.853333     1150.563333        0.530767\n",
       "1  8.426667     9.846000     1052.306667     1154.426667        0.533467\n",
       "2  8.450000     9.846667     1047.516667     1155.223333        0.538733\n",
       "3  8.470000     9.947333     1045.016667     1153.976667        0.549767\n",
       "4  8.500000     9.860667     1060.140000     1165.850000        0.548033"
      ]
     },
     "execution_count": 8,
     "metadata": {},
     "output_type": "execute_result"
    }
   ],
   "source": [
    "df.head()"
   ]
  },
  {
   "cell_type": "markdown",
   "metadata": {},
   "source": [
    "##### Построение распределения признаков"
   ]
  },
  {
   "cell_type": "code",
   "execution_count": 9,
   "metadata": {},
   "outputs": [
    {
     "data": {
      "text/plain": [
       "array([[<matplotlib.axes._subplots.AxesSubplot object at 0x00000076B3428BA8>,\n",
       "        <matplotlib.axes._subplots.AxesSubplot object at 0x00000076B2C4FB38>],\n",
       "       [<matplotlib.axes._subplots.AxesSubplot object at 0x00000076B2F0A6D8>,\n",
       "        <matplotlib.axes._subplots.AxesSubplot object at 0x00000076B2CE5278>],\n",
       "       [<matplotlib.axes._subplots.AxesSubplot object at 0x00000076B2CB6D68>,\n",
       "        <matplotlib.axes._subplots.AxesSubplot object at 0x00000076B2CB6DA0>]], dtype=object)"
      ]
     },
     "execution_count": 9,
     "metadata": {},
     "output_type": "execute_result"
    },
    {
     "data": {
      "image/png": "[encoded data removed]",
      "text/plain": [
       "<matplotlib.figure.Figure at 0x76b34285f8>"
      ]
     },
     "metadata": {},
     "output_type": "display_data"
    }
   ],
   "source": [
    "df.diff().hist(color='k', alpha=0.5, figsize=(16,16), bins=50)"
   ]
  },
  {
   "cell_type": "markdown",
   "metadata": {},
   "source": [
    "#### Выделение тренировочной и тестовой выборок"
   ]
  },
  {
   "cell_type": "markdown",
   "metadata": {},
   "source": [
    "Выделение поля 'Аппарат перемешивания 1: Нагрузка' в качестве целевой переменной"
   ]
  },
  {
   "cell_type": "code",
   "execution_count": 10,
   "metadata": {
    "collapsed": true
   },
   "outputs": [],
   "source": [
    "X = df.drop(df.columns[0], axis=1)\n",
    "y = df.drop(df.columns[[1,2,3,4]], axis=1)"
   ]
  },
  {
   "cell_type": "code",
   "execution_count": 11,
   "metadata": {
    "collapsed": true
   },
   "outputs": [],
   "source": [
    "from sklearn.model_selection import train_test_split"
   ]
  },
  {
   "cell_type": "code",
   "execution_count": 12,
   "metadata": {
    "collapsed": true
   },
   "outputs": [],
   "source": [
    "X_train, X_test, y_train, y_test = train_test_split(X, y, test_size=0.33, random_state=42)"
   ]
  },
  {
   "cell_type": "markdown",
   "metadata": {},
   "source": [
    "### Масштабирование признаков"
   ]
  },
  {
   "cell_type": "code",
   "execution_count": 13,
   "metadata": {
    "collapsed": true
   },
   "outputs": [],
   "source": [
    "from sklearn_pandas import DataFrameMapper\n",
    "from sklearn.preprocessing import StandardScaler"
   ]
  },
  {
   "cell_type": "code",
   "execution_count": 14,
   "metadata": {
    "collapsed": true
   },
   "outputs": [],
   "source": [
    "contin_vars = list(X_train.columns)\n",
    "contin_maps = [([o], StandardScaler()) for o in contin_vars]\n",
    "contin_mapper = DataFrameMapper(contin_maps)\n",
    "contin_map_fit = contin_mapper.fit(X_train)\n",
    "contin_cols = len(contin_map_fit.features)"
   ]
  },
  {
   "cell_type": "code",
   "execution_count": 15,
   "metadata": {},
   "outputs": [
    {
     "data": {
      "text/plain": [
       "array([[ 5.748328e+00, -4.290221e-01, -1.048420e-01,  3.095705e+00],\n",
       "       [-5.621132e-01, -3.542705e-01,  4.467934e-01,  3.179390e-02],\n",
       "       [ 7.407481e-01,  7.920764e-02, -2.147494e+00, -1.880507e+00],\n",
       "       ...,\n",
       "       [ 5.075922e-01, -5.249387e-01, -1.267617e-01, -3.407057e-01],\n",
       "       [-3.359871e-01, -2.932695e-01,  2.626561e-01,  6.082813e-01],\n",
       "       [ 6.705636e-02,  1.304014e+00,  2.710776e-01,  1.093390e-03]])"
      ]
     },
     "execution_count": 15,
     "metadata": {},
     "output_type": "execute_result"
    }
   ],
   "source": [
    "contin_map_fit.transform(X_train)"
   ]
  },
  {
   "cell_type": "code",
   "execution_count": 16,
   "metadata": {
    "collapsed": true
   },
   "outputs": [],
   "source": [
    "def contin_preproc(dat):\n",
    "    return contin_map_fit.transform(dat).astype(np.float64)"
   ]
  },
  {
   "cell_type": "code",
   "execution_count": 17,
   "metadata": {
    "collapsed": true
   },
   "outputs": [],
   "source": [
    "contin_map_X_train = contin_preproc(X_train)"
   ]
  },
  {
   "cell_type": "code",
   "execution_count": 18,
   "metadata": {},
   "outputs": [
    {
     "data": {
      "text/plain": [
       "array([[ 5.748328e+00, -4.290221e-01, -1.048420e-01,  3.095705e+00],\n",
       "       [-5.621132e-01, -3.542705e-01,  4.467934e-01,  3.179390e-02],\n",
       "       [ 7.407481e-01,  7.920764e-02, -2.147494e+00, -1.880507e+00],\n",
       "       ...,\n",
       "       [ 5.075922e-01, -5.249387e-01, -1.267617e-01, -3.407057e-01],\n",
       "       [-3.359871e-01, -2.932695e-01,  2.626561e-01,  6.082813e-01],\n",
       "       [ 6.705636e-02,  1.304014e+00,  2.710776e-01,  1.093390e-03]])"
      ]
     },
     "execution_count": 18,
     "metadata": {},
     "output_type": "execute_result"
    }
   ],
   "source": [
    "contin_map_X_train"
   ]
  },
  {
   "cell_type": "code",
   "execution_count": 19,
   "metadata": {
    "collapsed": true
   },
   "outputs": [],
   "source": [
    "contin_vars_ = list(X_test.columns)\n",
    "contin_maps_ = [([o], StandardScaler()) for o in contin_vars_]\n",
    "contin_mapper_ = DataFrameMapper(contin_maps_)\n",
    "contin_map_fit_ = contin_mapper_.fit(X_test)\n",
    "contin_cols_ = len(contin_map_fit_.features)"
   ]
  },
  {
   "cell_type": "code",
   "execution_count": 20,
   "metadata": {},
   "outputs": [
    {
     "data": {
      "text/plain": [
       "array([[ 0.06543 , -0.463323, -0.235845, -0.261405],\n",
       "       [-1.027338, -0.470688, -0.120303, -0.267094],\n",
       "       [-0.989218,  0.098928,  0.388138,  3.458833],\n",
       "       ...,\n",
       "       [-0.887565, -0.437514, -0.065234,  0.301147],\n",
       "       [ 0.623462,  0.164142,  0.42441 ,  1.335218],\n",
       "       [ 0.203085, -0.443809, -0.082134, -0.639758]])"
      ]
     },
     "execution_count": 20,
     "metadata": {},
     "output_type": "execute_result"
    }
   ],
   "source": [
    "contin_map_fit_.transform(X_test)"
   ]
  },
  {
   "cell_type": "code",
   "execution_count": 21,
   "metadata": {
    "collapsed": true
   },
   "outputs": [],
   "source": [
    "def contin_preproc_(dat):\n",
    "    return contin_map_fit_.transform(dat).astype(np.float64)"
   ]
  },
  {
   "cell_type": "code",
   "execution_count": 22,
   "metadata": {
    "collapsed": true
   },
   "outputs": [],
   "source": [
    "contin_map_X_test = contin_preproc_(X_test)"
   ]
  },
  {
   "cell_type": "code",
   "execution_count": 23,
   "metadata": {},
   "outputs": [
    {
     "data": {
      "text/plain": [
       "array([[ 0.06543 , -0.463323, -0.235845, -0.261405],\n",
       "       [-1.027338, -0.470688, -0.120303, -0.267094],\n",
       "       [-0.989218,  0.098928,  0.388138,  3.458833],\n",
       "       ...,\n",
       "       [-0.887565, -0.437514, -0.065234,  0.301147],\n",
       "       [ 0.623462,  0.164142,  0.42441 ,  1.335218],\n",
       "       [ 0.203085, -0.443809, -0.082134, -0.639758]])"
      ]
     },
     "execution_count": 23,
     "metadata": {},
     "output_type": "execute_result"
    }
   ],
   "source": [
    "contin_map_X_test"
   ]
  },
  {
   "cell_type": "markdown",
   "metadata": {},
   "source": [
    "##### Масштабирование целевой переменной"
   ]
  },
  {
   "cell_type": "code",
   "execution_count": 24,
   "metadata": {
    "collapsed": true
   },
   "outputs": [],
   "source": [
    "max_log_y = np.max(np.log(y.values))\n",
    "y_train_scaled = np.log(y_train)/max_log_y\n",
    "y_test_scaled = np.log(y_test)/max_log_y"
   ]
  },
  {
   "cell_type": "code",
   "execution_count": 25,
   "metadata": {},
   "outputs": [
    {
     "data": {
      "text/html": [
       "<div>\n",
       "<style>\n",
       "    .dataframe thead tr:only-child th {\n",
       "        text-align: right;\n",
       "    }\n",
       "\n",
       "    .dataframe thead th {\n",
       "        text-align: left;\n",
       "    }\n",
       "\n",
       "    .dataframe tbody tr th {\n",
       "        vertical-align: top;\n",
       "    }\n",
       "</style>\n",
       "<table border=\"1\" class=\"dataframe\">\n",
       "  <thead>\n",
       "    <tr style=\"text-align: right;\">\n",
       "      <th></th>\n",
       "      <th>Capacity</th>\n",
       "    </tr>\n",
       "  </thead>\n",
       "  <tbody>\n",
       "    <tr>\n",
       "      <th>3852</th>\n",
       "      <td>0.878821</td>\n",
       "    </tr>\n",
       "    <tr>\n",
       "      <th>3441</th>\n",
       "      <td>0.877035</td>\n",
       "    </tr>\n",
       "    <tr>\n",
       "      <th>8306</th>\n",
       "      <td>0.879953</td>\n",
       "    </tr>\n",
       "    <tr>\n",
       "      <th>3333</th>\n",
       "      <td>0.878659</td>\n",
       "    </tr>\n",
       "    <tr>\n",
       "      <th>7464</th>\n",
       "      <td>0.882048</td>\n",
       "    </tr>\n",
       "  </tbody>\n",
       "</table>\n",
       "</div>"
      ],
      "text/plain": [
       "      Capacity\n",
       "3852  0.878821\n",
       "3441  0.877035\n",
       "8306  0.879953\n",
       "3333  0.878659\n",
       "7464  0.882048"
      ]
     },
     "execution_count": 25,
     "metadata": {},
     "output_type": "execute_result"
    }
   ],
   "source": [
    "y_train_scaled.head()"
   ]
  },
  {
   "cell_type": "markdown",
   "metadata": {},
   "source": [
    "### Сборка архитектуры нейронной модели"
   ]
  },
  {
   "cell_type": "code",
   "execution_count": 26,
   "metadata": {},
   "outputs": [
    {
     "name": "stderr",
     "output_type": "stream",
     "text": [
      "C:\\Users\\Gavrilov\\Anaconda3\\lib\\site-packages\\h5py\\__init__.py:34: FutureWarning: Conversion of the second argument of issubdtype from `float` to `np.floating` is deprecated. In future, it will be treated as `np.float64 == np.dtype(float).type`.\n",
      "  from ._conv import register_converters as _register_converters\n",
      "Using TensorFlow backend.\n"
     ]
    }
   ],
   "source": [
    "import keras\n",
    "from keras import backend as K\n",
    "from keras.models import Sequential, Model\n",
    "from keras.layers.core import Dense, Dropout"
   ]
  },
  {
   "cell_type": "code",
   "execution_count": 27,
   "metadata": {
    "collapsed": true
   },
   "outputs": [],
   "source": [
    "from keras.optimizers import Adam\n",
    "from keras.layers.convolutional import *\n",
    "from keras.layers import Input"
   ]
  },
  {
   "cell_type": "code",
   "execution_count": 28,
   "metadata": {
    "collapsed": true
   },
   "outputs": [],
   "source": [
    "def get_contin(feat):\n",
    "    name = feat[0][0]\n",
    "    inp = Input((1,), name=name+'_in')\n",
    "    return inp, Dense(1, name=name+'_d', init=\"random_uniform\")(inp) "
   ]
  },
  {
   "cell_type": "code",
   "execution_count": 29,
   "metadata": {},
   "outputs": [
    {
     "name": "stderr",
     "output_type": "stream",
     "text": [
      "C:\\Users\\Gavrilov\\Anaconda3\\lib\\site-packages\\ipykernel_launcher.py:4: UserWarning: Update your `Dense` call to the Keras 2 API: `Dense(1, name=\"Flow_Sensor_d\", kernel_initializer=\"random_uniform\")`\n",
      "  after removing the cwd from sys.path.\n",
      "C:\\Users\\Gavrilov\\Anaconda3\\lib\\site-packages\\ipykernel_launcher.py:4: UserWarning: Update your `Dense` call to the Keras 2 API: `Dense(1, name=\"Level_Sensor_1_d\", kernel_initializer=\"random_uniform\")`\n",
      "  after removing the cwd from sys.path.\n",
      "C:\\Users\\Gavrilov\\Anaconda3\\lib\\site-packages\\ipykernel_launcher.py:4: UserWarning: Update your `Dense` call to the Keras 2 API: `Dense(1, name=\"Level_Sensor_2_d\", kernel_initializer=\"random_uniform\")`\n",
      "  after removing the cwd from sys.path.\n",
      "C:\\Users\\Gavrilov\\Anaconda3\\lib\\site-packages\\ipykernel_launcher.py:4: UserWarning: Update your `Dense` call to the Keras 2 API: `Dense(1, name=\"Pressure_Meter_d\", kernel_initializer=\"random_uniform\")`\n",
      "  after removing the cwd from sys.path.\n"
     ]
    }
   ],
   "source": [
    "conts = [get_contin(feat) for feat in contin_map_fit.features]"
   ]
  },
  {
   "cell_type": "code",
   "execution_count": 30,
   "metadata": {
    "collapsed": true
   },
   "outputs": [],
   "source": [
    "contin_d = [d for inp,d in conts]\n",
    "contin_inp = Input((contin_cols,), name='contin')\n",
    "contin_out = Dense(contin_cols*10, activation='relu', name='contin_d')(contin_inp)"
   ]
  },
  {
   "cell_type": "code",
   "execution_count": 31,
   "metadata": {},
   "outputs": [
    {
     "name": "stderr",
     "output_type": "stream",
     "text": [
      "C:\\Users\\Gavrilov\\Anaconda3\\lib\\site-packages\\ipykernel_launcher.py:3: UserWarning: Update your `Dense` call to the Keras 2 API: `Dense(10, activation=\"relu\", kernel_initializer=\"uniform\")`\n",
      "  This is separate from the ipykernel package so we can avoid doing imports until\n",
      "C:\\Users\\Gavrilov\\Anaconda3\\lib\\site-packages\\ipykernel_launcher.py:4: UserWarning: Update your `Dense` call to the Keras 2 API: `Dense(5, activation=\"relu\", kernel_initializer=\"uniform\")`\n",
      "  after removing the cwd from sys.path.\n"
     ]
    }
   ],
   "source": [
    "x = contin_out\n",
    "x = Dropout(0.02)(x)\n",
    "x = Dense(10, activation='relu', init='uniform')(x)\n",
    "x = Dense(5, activation='relu', init='uniform')(x)\n",
    "x = Dropout(0.2)(x)\n",
    "x = Dense(1, activation='sigmoid')(x)"
   ]
  },
  {
   "cell_type": "code",
   "execution_count": 32,
   "metadata": {
    "collapsed": true
   },
   "outputs": [],
   "source": [
    "model = Model(contin_inp, x)"
   ]
  },
  {
   "cell_type": "code",
   "execution_count": 33,
   "metadata": {},
   "outputs": [
    {
     "name": "stdout",
     "output_type": "stream",
     "text": [
      "_________________________________________________________________\n",
      "Layer (type)                 Output Shape              Param #   \n",
      "=================================================================\n",
      "contin (InputLayer)          (None, 4)                 0         \n",
      "_________________________________________________________________\n",
      "contin_d (Dense)             (None, 40)                200       \n",
      "_________________________________________________________________\n",
      "dropout_1 (Dropout)          (None, 40)                0         \n",
      "_________________________________________________________________\n",
      "dense_1 (Dense)              (None, 10)                410       \n",
      "_________________________________________________________________\n",
      "dense_2 (Dense)              (None, 5)                 55        \n",
      "_________________________________________________________________\n",
      "dropout_2 (Dropout)          (None, 5)                 0         \n",
      "_________________________________________________________________\n",
      "dense_3 (Dense)              (None, 1)                 6         \n",
      "=================================================================\n",
      "Total params: 671\n",
      "Trainable params: 671\n",
      "Non-trainable params: 0\n",
      "_________________________________________________________________\n"
     ]
    }
   ],
   "source": [
    "model.summary()"
   ]
  },
  {
   "cell_type": "markdown",
   "metadata": {},
   "source": [
    "#### Тренировка модели"
   ]
  },
  {
   "cell_type": "markdown",
   "metadata": {},
   "source": [
    "Метрика ошибки: Средняя абсолютная ошибка"
   ]
  },
  {
   "cell_type": "code",
   "execution_count": 34,
   "metadata": {
    "collapsed": true
   },
   "outputs": [],
   "source": [
    "model.compile('adam', 'mean_absolute_error')"
   ]
  },
  {
   "cell_type": "code",
   "execution_count": 35,
   "metadata": {},
   "outputs": [
    {
     "name": "stdout",
     "output_type": "stream",
     "text": [
      "Wall time: 5.21 s\n"
     ]
    }
   ],
   "source": [
    "%%time \n",
    "hist = model.fit(contin_map_X_train, y_train_scaled, batch_size=128, epochs=5, verbose=0, \n",
    "                 validation_data=(contin_map_X_test, y_test_scaled))"
   ]
  },
  {
   "cell_type": "markdown",
   "metadata": {},
   "source": [
    "##### Кривая ошибки модели в зависимости от количества итераций тренировки"
   ]
  },
  {
   "cell_type": "code",
   "execution_count": 36,
   "metadata": {
    "scrolled": false
   },
   "outputs": [
    {
     "data": {
      "image/png": "[encoded data removed]",
      "text/plain": [
       "<matplotlib.figure.Figure at 0x76bbde7208>"
      ]
     },
     "metadata": {},
     "output_type": "display_data"
    }
   ],
   "source": [
    "plt.figure(figsize=(15,8))\n",
    "plt.plot(hist.history['val_loss'])\n",
    "plt.plot(hist.history['loss'])\n",
    "plt.title('model loss')\n",
    "plt.ylabel('loss')\n",
    "plt.xlabel('epoch')\n",
    "plt.legend(['train', 'test'], loc='upper left')\n",
    "plt.show()"
   ]
  },
  {
   "cell_type": "markdown",
   "metadata": {},
   "source": [
    "### Подготовка датасета для вычисления предсказаний моделью"
   ]
  },
  {
   "cell_type": "markdown",
   "metadata": {},
   "source": [
    "Замечание: \n",
    "    \n",
    "    1) Объекты в поле 'Аппарат перемешивания 2: Нагрузка' по индексу [0:977]  имеют значения равное 0;\n",
    "    2) Объекты в поле 'Аппарат перемешивания 2: Датчик расхода' по индексу [0:1089] имеют значения равное 0."
   ]
  },
  {
   "cell_type": "code",
   "execution_count": 37,
   "metadata": {
    "collapsed": true
   },
   "outputs": [],
   "source": [
    "df_pred_ = pd.read_excel('Данные для тестового задания 2.xlsx', encoding = 'windows-1251').iloc[:,5:] "
   ]
  },
  {
   "cell_type": "code",
   "execution_count": 38,
   "metadata": {
    "scrolled": true
   },
   "outputs": [
    {
     "data": {
      "text/html": [
       "<div>\n",
       "<style>\n",
       "    .dataframe thead tr:only-child th {\n",
       "        text-align: right;\n",
       "    }\n",
       "\n",
       "    .dataframe thead th {\n",
       "        text-align: left;\n",
       "    }\n",
       "\n",
       "    .dataframe tbody tr th {\n",
       "        vertical-align: top;\n",
       "    }\n",
       "</style>\n",
       "<table border=\"1\" class=\"dataframe\">\n",
       "  <thead>\n",
       "    <tr style=\"text-align: right;\">\n",
       "      <th></th>\n",
       "      <th>Аппарат перемешивания 2</th>\n",
       "      <th>Unnamed: 6</th>\n",
       "      <th>Unnamed: 7</th>\n",
       "      <th>Unnamed: 8</th>\n",
       "      <th>Unnamed: 9</th>\n",
       "    </tr>\n",
       "  </thead>\n",
       "  <tbody>\n",
       "    <tr>\n",
       "      <th>0</th>\n",
       "      <td>Нагрузка</td>\n",
       "      <td>Датчик расхода</td>\n",
       "      <td>Датчик уровня 1</td>\n",
       "      <td>Датчик уровня 2</td>\n",
       "      <td>Датчик давления</td>\n",
       "    </tr>\n",
       "    <tr>\n",
       "      <th>1</th>\n",
       "      <td>0</td>\n",
       "      <td>0</td>\n",
       "      <td>446.4</td>\n",
       "      <td>377.233</td>\n",
       "      <td>-0.01</td>\n",
       "    </tr>\n",
       "    <tr>\n",
       "      <th>2</th>\n",
       "      <td>0</td>\n",
       "      <td>0</td>\n",
       "      <td>451.767</td>\n",
       "      <td>377.533</td>\n",
       "      <td>-0.0099</td>\n",
       "    </tr>\n",
       "    <tr>\n",
       "      <th>3</th>\n",
       "      <td>0</td>\n",
       "      <td>0</td>\n",
       "      <td>451.933</td>\n",
       "      <td>378</td>\n",
       "      <td>-0.0099</td>\n",
       "    </tr>\n",
       "    <tr>\n",
       "      <th>4</th>\n",
       "      <td>0</td>\n",
       "      <td>0</td>\n",
       "      <td>449.567</td>\n",
       "      <td>377.4</td>\n",
       "      <td>-0.00996667</td>\n",
       "    </tr>\n",
       "  </tbody>\n",
       "</table>\n",
       "</div>"
      ],
      "text/plain": [
       "  Аппарат перемешивания 2      Unnamed: 6       Unnamed: 7       Unnamed: 8  \\\n",
       "0                Нагрузка  Датчик расхода  Датчик уровня 1  Датчик уровня 2   \n",
       "1                       0               0            446.4          377.233   \n",
       "2                       0               0          451.767          377.533   \n",
       "3                       0               0          451.933              378   \n",
       "4                       0               0          449.567            377.4   \n",
       "\n",
       "        Unnamed: 9  \n",
       "0  Датчик давления  \n",
       "1            -0.01  \n",
       "2          -0.0099  \n",
       "3          -0.0099  \n",
       "4      -0.00996667  "
      ]
     },
     "execution_count": 38,
     "metadata": {},
     "output_type": "execute_result"
    }
   ],
   "source": [
    "df_pred_.head()"
   ]
  },
  {
   "cell_type": "markdown",
   "metadata": {},
   "source": [
    "#### Выводы:\n",
    "    \n",
    "    1) Вычисление предсказаний из-за отсутствия более 1/3 значений по полю 'Аппарат перемешивания 2: Датчик расхода' осложнено проблемами (вероятено 'Underfitting');\n",
    "    2) Ошибка модели из-за отсутствия примерно 1/3 значений по полю 'Аппарат перемешивания 2: Нагрузка' будет иметь большие значения."
   ]
  },
  {
   "cell_type": "markdown",
   "metadata": {},
   "source": [
    "#### Формирование выборки \n",
    "\n",
    "по индексу [1089:], которая состоит из признаков имеющих значения отличные от 0."
   ]
  },
  {
   "cell_type": "code",
   "execution_count": 39,
   "metadata": {
    "collapsed": true
   },
   "outputs": [],
   "source": [
    "df_pred = pd.read_excel('Данные для тестового задания 2.xlsx', encoding = 'windows-1251').iloc[1089:,5:] "
   ]
  },
  {
   "cell_type": "code",
   "execution_count": 40,
   "metadata": {
    "collapsed": true
   },
   "outputs": [],
   "source": [
    "df_pred.rename(columns={'Аппарат перемешивания 2': 'Нагрузка', \n",
    "                   'Unnamed: 6': 'Датчик_расхода',\n",
    "                  'Unnamed: 7': 'Датчик_уровня_1', \n",
    "                  'Unnamed: 8': 'Датчик_уровня_2',\n",
    "                  'Unnamed: 9': 'Датчик_давления'}, inplace=True)"
   ]
  },
  {
   "cell_type": "code",
   "execution_count": 41,
   "metadata": {
    "collapsed": true
   },
   "outputs": [],
   "source": [
    "df_pred[df_pred.columns.tolist()] = df_pred[df_pred.columns.tolist()].astype(np.float64)"
   ]
  },
  {
   "cell_type": "code",
   "execution_count": 42,
   "metadata": {},
   "outputs": [
    {
     "data": {
      "text/html": [
       "<div>\n",
       "<style>\n",
       "    .dataframe thead tr:only-child th {\n",
       "        text-align: right;\n",
       "    }\n",
       "\n",
       "    .dataframe thead th {\n",
       "        text-align: left;\n",
       "    }\n",
       "\n",
       "    .dataframe tbody tr th {\n",
       "        vertical-align: top;\n",
       "    }\n",
       "</style>\n",
       "<table border=\"1\" class=\"dataframe\">\n",
       "  <thead>\n",
       "    <tr style=\"text-align: right;\">\n",
       "      <th></th>\n",
       "      <th>Нагрузка</th>\n",
       "      <th>Датчик_расхода</th>\n",
       "      <th>Датчик_уровня_1</th>\n",
       "      <th>Датчик_уровня_2</th>\n",
       "      <th>Датчик_давления</th>\n",
       "    </tr>\n",
       "  </thead>\n",
       "  <tbody>\n",
       "    <tr>\n",
       "      <th>1089</th>\n",
       "      <td>9.183333</td>\n",
       "      <td>3.675667</td>\n",
       "      <td>1026.566667</td>\n",
       "      <td>1076.533333</td>\n",
       "      <td>0.155500</td>\n",
       "    </tr>\n",
       "    <tr>\n",
       "      <th>1090</th>\n",
       "      <td>9.140000</td>\n",
       "      <td>2.473000</td>\n",
       "      <td>1001.600000</td>\n",
       "      <td>1054.200000</td>\n",
       "      <td>0.172700</td>\n",
       "    </tr>\n",
       "    <tr>\n",
       "      <th>1091</th>\n",
       "      <td>9.386667</td>\n",
       "      <td>4.164667</td>\n",
       "      <td>1056.900000</td>\n",
       "      <td>1110.100000</td>\n",
       "      <td>0.168633</td>\n",
       "    </tr>\n",
       "    <tr>\n",
       "      <th>1092</th>\n",
       "      <td>9.730000</td>\n",
       "      <td>6.004333</td>\n",
       "      <td>1128.066667</td>\n",
       "      <td>1178.733333</td>\n",
       "      <td>0.162133</td>\n",
       "    </tr>\n",
       "    <tr>\n",
       "      <th>1093</th>\n",
       "      <td>9.766667</td>\n",
       "      <td>7.728333</td>\n",
       "      <td>1119.366667</td>\n",
       "      <td>1174.500000</td>\n",
       "      <td>0.199700</td>\n",
       "    </tr>\n",
       "  </tbody>\n",
       "</table>\n",
       "</div>"
      ],
      "text/plain": [
       "      Нагрузка  Датчик_расхода  Датчик_уровня_1  Датчик_уровня_2  \\\n",
       "1089  9.183333        3.675667      1026.566667      1076.533333   \n",
       "1090  9.140000        2.473000      1001.600000      1054.200000   \n",
       "1091  9.386667        4.164667      1056.900000      1110.100000   \n",
       "1092  9.730000        6.004333      1128.066667      1178.733333   \n",
       "1093  9.766667        7.728333      1119.366667      1174.500000   \n",
       "\n",
       "      Датчик_давления  \n",
       "1089         0.155500  \n",
       "1090         0.172700  \n",
       "1091         0.168633  \n",
       "1092         0.162133  \n",
       "1093         0.199700  "
      ]
     },
     "execution_count": 42,
     "metadata": {},
     "output_type": "execute_result"
    }
   ],
   "source": [
    "df_pred.head()"
   ]
  },
  {
   "cell_type": "code",
   "execution_count": 43,
   "metadata": {
    "collapsed": true
   },
   "outputs": [],
   "source": [
    "X_pred = df_pred.drop(df_pred.columns[0], axis=1)"
   ]
  },
  {
   "cell_type": "code",
   "execution_count": 44,
   "metadata": {
    "collapsed": true
   },
   "outputs": [],
   "source": [
    "contin_vars_p = list(X_pred.columns)\n",
    "contin_maps_p = [([o], StandardScaler()) for o in contin_vars_p]\n",
    "contin_mapper_p = DataFrameMapper(contin_maps_p)\n",
    "contin_map_fit_p = contin_mapper_p.fit(X_pred)\n",
    "contin_cols_p = len(contin_map_fit_p.features)"
   ]
  },
  {
   "cell_type": "code",
   "execution_count": 45,
   "metadata": {},
   "outputs": [
    {
     "data": {
      "text/plain": [
       "array([[-3.253758e+01, -5.087538e-01, -6.376521e-01, -8.635168e+00],\n",
       "       [-3.585027e+01, -8.815696e-01, -9.584213e-01, -8.228012e+00],\n",
       "       [-3.119065e+01, -5.579996e-02, -1.555408e-01, -8.324278e+00],\n",
       "       ...,\n",
       "       [ 2.007132e-02,  1.228399e+00,  1.293666e+00,  7.672925e-01],\n",
       "       [ 7.883302e-02,  2.051182e+00,  2.099898e+00,  7.696597e-01],\n",
       "       [-2.124550e-02,  2.224897e+00,  2.276560e+00,  7.625581e-01]])"
      ]
     },
     "execution_count": 45,
     "metadata": {},
     "output_type": "execute_result"
    }
   ],
   "source": [
    "contin_map_fit_p.transform(X_pred)"
   ]
  },
  {
   "cell_type": "code",
   "execution_count": 46,
   "metadata": {
    "collapsed": true
   },
   "outputs": [],
   "source": [
    "def contin_preproc_p(dat):\n",
    "    return contin_map_fit_p.transform(dat).astype(np.float64)"
   ]
  },
  {
   "cell_type": "code",
   "execution_count": 47,
   "metadata": {
    "collapsed": true
   },
   "outputs": [],
   "source": [
    "contin_map_X_pred = contin_preproc_p(X_pred)"
   ]
  },
  {
   "cell_type": "code",
   "execution_count": 48,
   "metadata": {},
   "outputs": [
    {
     "data": {
      "text/plain": [
       "array([[-3.253758e+01, -5.087538e-01, -6.376521e-01, -8.635168e+00],\n",
       "       [-3.585027e+01, -8.815696e-01, -9.584213e-01, -8.228012e+00],\n",
       "       [-3.119065e+01, -5.579996e-02, -1.555408e-01, -8.324278e+00],\n",
       "       ...,\n",
       "       [ 2.007132e-02,  1.228399e+00,  1.293666e+00,  7.672925e-01],\n",
       "       [ 7.883302e-02,  2.051182e+00,  2.099898e+00,  7.696597e-01],\n",
       "       [-2.124550e-02,  2.224897e+00,  2.276560e+00,  7.625581e-01]])"
      ]
     },
     "execution_count": 48,
     "metadata": {},
     "output_type": "execute_result"
    }
   ],
   "source": [
    "contin_map_X_pred"
   ]
  },
  {
   "cell_type": "markdown",
   "metadata": {},
   "source": [
    "#### Рассчет нагрузки на смешивающий аппарат (предсказания моделью целевой переменной)"
   ]
  },
  {
   "cell_type": "code",
   "execution_count": 50,
   "metadata": {
    "collapsed": true
   },
   "outputs": [],
   "source": [
    "preds = np.squeeze(model.predict(contin_map_X_pred))"
   ]
  },
  {
   "cell_type": "code",
   "execution_count": 51,
   "metadata": {},
   "outputs": [
    {
     "data": {
      "text/plain": [
       "array([1.      , 1.      , 1.      , ..., 0.901149, 0.942478, 0.948169], dtype=float32)"
      ]
     },
     "execution_count": 51,
     "metadata": {},
     "output_type": "execute_result"
    }
   ],
   "source": [
    "preds"
   ]
  },
  {
   "cell_type": "code",
   "execution_count": 52,
   "metadata": {
    "collapsed": true
   },
   "outputs": [],
   "source": [
    "# функция для инверсии преобразований\n",
    "def log_max_inv(preds, mx = max_log_y):\n",
    "    return np.exp(preds * mx)"
   ]
  },
  {
   "cell_type": "code",
   "execution_count": 53,
   "metadata": {
    "collapsed": true
   },
   "outputs": [],
   "source": [
    "preds_final = log_max_inv(preds)"
   ]
  },
  {
   "cell_type": "code",
   "execution_count": 54,
   "metadata": {},
   "outputs": [
    {
     "data": {
      "text/plain": [
       "array([11.366666, 11.366666, 11.366666, ...,  8.938874,  9.883494, 10.021166], dtype=float32)"
      ]
     },
     "execution_count": 54,
     "metadata": {},
     "output_type": "execute_result"
    }
   ],
   "source": [
    "preds_final"
   ]
  },
  {
   "cell_type": "code",
   "execution_count": 55,
   "metadata": {
    "collapsed": true
   },
   "outputs": [],
   "source": [
    "y_df_pred = df_pred.drop(df_pred.columns[[1, 2, 3, 4]], axis=1)"
   ]
  },
  {
   "cell_type": "code",
   "execution_count": 56,
   "metadata": {
    "collapsed": true
   },
   "outputs": [],
   "source": [
    "preds_final = pd.DataFrame(preds_final, index=y_df_pred.index)\n",
    "preds_final.rename(columns={'0': 'Нагрузка'}, inplace=True)"
   ]
  },
  {
   "cell_type": "markdown",
   "metadata": {},
   "source": [
    "##### Средняя абсолютная ошибка модели"
   ]
  },
  {
   "cell_type": "code",
   "execution_count": 57,
   "metadata": {
    "collapsed": true
   },
   "outputs": [],
   "source": [
    "from sklearn.metrics import mean_absolute_error"
   ]
  },
  {
   "cell_type": "code",
   "execution_count": 58,
   "metadata": {},
   "outputs": [
    {
     "name": "stdout",
     "output_type": "stream",
     "text": [
      "0.6949178285306608\n"
     ]
    }
   ],
   "source": [
    "print(mean_absolute_error(preds_final, y_df_pred)) "
   ]
  },
  {
   "cell_type": "markdown",
   "metadata": {},
   "source": [
    "### График ошибки модели "
   ]
  },
  {
   "cell_type": "code",
   "execution_count": 63,
   "metadata": {
    "scrolled": false
   },
   "outputs": [
    {
     "data": {
      "image/png": "[encoded data removed]",
      "text/plain": [
       "<matplotlib.figure.Figure at 0x76bbca0240>"
      ]
     },
     "metadata": {},
     "output_type": "display_data"
    }
   ],
   "source": [
    "plt.figure(figsize=(20,10))\n",
    "plt.plot(y_df_pred, alpha=0.5)\n",
    "plt.plot(preds_final, alpha=0.5)\n",
    "plt.ylabel('Значения поля Нагрузка')\n",
    "plt.xlabel('Объекты')\n",
    "plt.legend(['Значения поля Нагрузка - из датасета', 'Значения поля Нагрузка - Предсказания модели'], \n",
    "           loc='best', prop={'size': 16})\n",
    "plt.show()"
   ]
  },
  {
   "cell_type": "markdown",
   "metadata": {
    "collapsed": true
   },
   "source": [
    "## Выводы\n",
    "\n",
    "    1) Средняя абсолютная ошибка со значением 0.69 является недостаточно минимальной; \n",
    "    2) При этом модель в ряде пиков позволила вычислить предсказания с минимальной ошибкой;\n",
    "    3) Масштабирование признаков по технике 'mean value 0 and standard deviation of 1' ('среднее значение 0 и стандартное отклонение 1') позволяет обучить модель, а обратное преобразование предсказания целевой переменной позволяет получить предсказания по рассчету нагрузки. \n",
    "    "
   ]
  }
 ],
 "metadata": {
  "kernelspec": {
   "display_name": "Python 3",
   "language": "python",
   "name": "python3"
  },
  "language_info": {
   "codemirror_mode": {
    "name": "ipython",
    "version": 3
   },
   "file_extension": ".py",
   "mimetype": "text/x-python",
   "name": "python",
   "nbconvert_exporter": "python",
   "pygments_lexer": "ipython3",
   "version": "3.6.3"
  }
 },
 "nbformat": 4,
 "nbformat_minor": 2
}
